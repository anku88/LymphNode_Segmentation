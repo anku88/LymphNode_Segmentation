{
 "cells": [
  {
   "cell_type": "code",
   "execution_count": 1,
   "id": "4cce2c45-cd39-438a-a5e4-1a877c40e6f5",
   "metadata": {},
   "outputs": [],
   "source": [
    "import numpy as np\n",
    "import pandas as pd\n",
    "import pma_python\n",
    "from pma_python import core\n",
    "import tqdm\n",
    "from tqdm import tqdm\n",
    "import numpy as np\n",
    "from PIL import Image, ImageDraw\n",
    "import shapely\n",
    "from shapely import Polygon\n",
    "pd.set_option('display.max_rows',None)\n",
    "pd.set_option('display.max_columns',None)\n",
    "pd.set_option('display.max_colwidth',None)\n",
    "import os\n",
    "import glob\n",
    "import cv2\n",
    "import matplotlib.pyplot as plt"
   ]
  },
  {
   "cell_type": "code",
   "execution_count": 2,
   "id": "912371fe-2682-470e-8821-00b6907bd8cf",
   "metadata": {},
   "outputs": [
    {
     "data": {
      "text/plain": [
       "'pxtwTqDIO2UqNMvJAO3-9g2'"
      ]
     },
     "execution_count": 2,
     "metadata": {},
     "output_type": "execute_result"
    }
   ],
   "source": [
    "sessionID = core.connect('hosturl','username','password')\n",
    "sessionID"
   ]
  },
  {
   "cell_type": "code",
   "execution_count": 3,
   "id": "69496a19-6786-4036-8459-29ed6135f303",
   "metadata": {},
   "outputs": [],
   "source": [
    "def find_level_x(pma_slide,sessionID,mgfx):\n",
    "    level = None\n",
    "    closest_level_distance = float('inf')\n",
    "\n",
    "    for i, magnification_level in enumerate(core.get_zoomlevels_list(pma_slide, sessionID=sessionID)):\n",
    "        if core.get_magnification(pma_slide, i, True, sessionID) == mgfx:\n",
    "            level = i\n",
    "            break\n",
    "    else:\n",
    "        distance = abs(core.get_magnification(pma_slide, i, True, sessionID) - mgfx)\n",
    "        if distance < closest_level_distance:\n",
    "            closest_level_distance = distance\n",
    "            level = i\n",
    "\n",
    "    return level\n",
    "\n",
    "def get_scale(pma_slide,sessionID,mgfx):\n",
    "    level = find_level_x(pma_slide, sessionID,mgfx) \n",
    "    max_level_dim = core.get_pixel_dimensions(pma_slide,core.get_max_zoomlevel(pma_slide,sessionID),sessionID)[0]\n",
    "    zoom_level_dim = core.get_pixel_dimensions(pma_slide,level,sessionID)[0] \n",
    "    dwnsmple = zoom_level_dim / max_level_dim \n",
    "    scale = dwnsmple*(mgfx/core.get_magnification(pma_slide,level,True,sessionID))\n",
    "    return scale\n",
    "\n",
    "def get_annotations(pma_slide,sessionID,scale):\n",
    "    ann = core.get_annotations(pma_slide,sessionID)\n",
    "    annotations = []\n",
    "    for annotation in ann:\n",
    "        if \"Node\" in annotation['Classification']:\n",
    "            annotations.append(annotation['Geometry'])\n",
    "    numerical_annotations = []\n",
    "    for annotation in annotations:\n",
    "        coordinates_str = annotation[len('POLYGON(('):-len('))')]\n",
    "        coordinate_pairs = coordinates_str.split(',')\n",
    "        coordinates = [tuple(map(int, pair.strip().split())) for pair in coordinate_pairs]\n",
    "        numerical_annotations.append(coordinates)\n",
    "    for i in range(len(numerical_annotations)):\n",
    "        annotation = numerical_annotations[i]\n",
    "        scaled_annotation = [(round(x*scale), round(y*scale)) for x, y in annotation]\n",
    "        numerical_annotations[i] = scaled_annotation\n",
    "        numerical_annotations\n",
    "    all_polygons = []\n",
    "    for i in (numerical_annotations):\n",
    "        lymph_node_polygon = np.array(i, dtype=np.int32)\n",
    "        lymph_node_polygon = lymph_node_polygon.reshape((-1, 1, 2))\n",
    "        all_polygons.append(lymph_node_polygon)\n",
    "    return all_polygons\n",
    "\n",
    "\n",
    "def binary_mask(pma_slide,sessionID,mgfx):\n",
    "    level = find_level_x(pma_slide,sessionID,mgfx)\n",
    "    scale = get_scale(pma_slide,sessionID,mgfx)\n",
    "    w = core.get_slide_info(pma_slide)['Width']\n",
    "    w = round(w * scale)\n",
    "    h = core.get_slide_info(pma_slide)['Height']\n",
    "    h = round(h * scale)\n",
    "    image_shape = (h, w) #as per numpy pass image size as h,w always to get masks in right way\n",
    "    \n",
    "    all_polygons =  get_annotations(pma_slide,sessionID,scale)\n",
    "    # Create a binary mask initialized with zeros\n",
    "    binary_mask = np.zeros(image_shape[:2], dtype=np.uint8)\n",
    "    \n",
    "    # Fill the binary mask with the polygons\n",
    "    binary_mask_1 = cv2.fillPoly(binary_mask, all_polygons, 1) \n",
    "\n",
    "\n",
    "    \n",
    "    # Convert the binary mask back to PIL format (RGB)\n",
    "    #binary_mask_img = Image.fromarray((binary_mask_1 * 255).astype(np.uint8))\n",
    "    return binary_mask_1"
   ]
  },
  {
   "cell_type": "code",
   "execution_count": 4,
   "id": "3671f12a-720b-408b-927f-25b3ccf0b7d9",
   "metadata": {},
   "outputs": [],
   "source": [
    "def find_level_x(pma_slide,sessionID,mgfx):\n",
    "    level = None\n",
    "    closest_level_distance = float('inf')\n",
    "\n",
    "    for i, magnification_level in enumerate(core.get_zoomlevels_list(pma_slide, sessionID=sessionID)):\n",
    "        if core.get_magnification(pma_slide, i, True, sessionID) == mgfx:\n",
    "            level = i\n",
    "            break\n",
    "    else:\n",
    "        distance = abs(core.get_magnification(pma_slide, i, True, sessionID) - mgfx)\n",
    "        if distance < closest_level_distance:\n",
    "            closest_level_distance = distance\n",
    "            level = i\n",
    "\n",
    "    return level\n",
    "\n",
    "def get_scale(pma_slide,sessionID,mgfx):\n",
    "    level = find_level_x(pma_slide, sessionID,mgfx) \n",
    "    max_level_dim = core.get_pixel_dimensions(pma_slide,core.get_max_zoomlevel(pma_slide,sessionID),sessionID)[0]\n",
    "    zoom_level_dim = core.get_pixel_dimensions(pma_slide,level,sessionID)[0] \n",
    "    dwnsmple = zoom_level_dim / max_level_dim \n",
    "    scale = dwnsmple*(mgfx/core.get_magnification(pma_slide,level,True,sessionID))\n",
    "    return scale\n",
    "\n",
    "\n",
    "\n",
    "\n",
    "\n",
    "\n",
    "\n",
    "\n",
    "\n",
    "def binary_mask_t(pma_slide,sessionID,mgfx):\n",
    "    level = find_level_x(pma_slide,sessionID,mgfx)\n",
    "    scale = get_scale(pma_slide,sessionID,mgfx)\n",
    "\n",
    "\n",
    "\n",
    "\n",
    "    BILATERAL1_ARGS={\"d\":9,\"sigmaColor\":10000,\"sigmaSpace\":150}\n",
    "    BILATERAL2_ARGS={\"d\":90,\"sigmaColor\":5000,\"sigmaSpace\":5000}\n",
    "    BILATERAL3_ARGS={\"d\":90,\"sigmaColor\":10000,\"sigmaSpace\":10000}\n",
    "    BILATERAL4_ARGS={\"d\":90,\"sigmaColor\":10000,\"sigmaSpace\":100}\n",
    "    THRESH1_ARGS={\"thresh\":0,\"maxval\":255,\"type\":cv2.THRESH_TRUNC+cv2.THRESH_OTSU}\n",
    "    THRESH2_ARGS={\"thresh\":0,\"maxval\":255,\"type\":cv2.THRESH_OTSU}\n",
    "    \n",
    "    w = core.get_slide_info(pma_slide)['Width']\n",
    "    h = core.get_slide_info(pma_slide)['Height']\n",
    "    img=core.get_region(pma_slide,x=0,y=0,width=w,height=h,scale=scale,sessionID=sessionID)\n",
    "    \n",
    "    img=np.array(img)\n",
    "    image=img.copy()\n",
    "    shape=img.shape\n",
    "    img_hsv=cv2.cvtColor(img,cv2.COLOR_RGB2HSV)\n",
    "    lower_red=np.array([120,0,0])\n",
    "    upper_red=np.array([180,255,255])\n",
    "    mask=cv2.inRange(img_hsv,lower_red,upper_red)\n",
    "    img_hsv=cv2.cvtColor(img_hsv,cv2.COLOR_HSV2RGB)\n",
    "    m=cv2.bitwise_and(img,img,mask=mask)\n",
    "    im_fill=np.where(m==0,233,m)\n",
    "    mask=np.zeros(shape)\n",
    "    gray=cv2.cvtColor(im_fill,cv2.COLOR_BGR2GRAY)\n",
    "    blur1=cv2.bilateralFilter(np.bitwise_not(gray),**BILATERAL1_ARGS)\n",
    "    blur2=cv2.bilateralFilter(np.bitwise_not(blur1),**BILATERAL2_ARGS)\n",
    "    blur3=cv2.bilateralFilter(np.bitwise_not(blur2),**BILATERAL3_ARGS)\n",
    "    blur4=cv2.bilateralFilter(np.bitwise_not(blur3),**BILATERAL4_ARGS)\n",
    "    blur_final=255-blur4\n",
    "    _,thresh=cv2.threshold(blur_final,**THRESH1_ARGS)\n",
    "    _,thresh=cv2.threshold(thresh,**THRESH2_ARGS)\n",
    "    contours,_=cv2.findContours(thresh,cv2.RETR_EXTERNAL,cv2.CHAIN_APPROX_NONE)\n",
    "    contours=list(filter(lambda x: cv2.contourArea(x) > 9000, contours))\n",
    "    new=cv2.drawContours(image,contours,-1,(0,0,255),3)\n",
    "    #cv2.imwrite('new34.png',new)\n",
    "   # print(len(contours))\n",
    "    \n",
    "    plygons =[]\n",
    "    for contour in contours:\n",
    "        contour = np.squeeze((1 / 32) * contour).astype(int)\n",
    "        plygon = Polygon(contour)\n",
    "        plygon=str(plygon)\n",
    "        plygons.append(plygon)\n",
    "        numerical_annotations = []\n",
    "        for annotation in plygons:\n",
    "            coordinates_str = annotation[len('POLYGON((('):-len('))')]\n",
    "            coordinate_pairs = coordinates_str.split(',')\n",
    "            coordinates = [tuple(map(int, pair.strip().split())) for pair in coordinate_pairs]\n",
    "            numerical_annotations.append(coordinates)\n",
    "        for i in range(len(numerical_annotations)):\n",
    "            annotation = numerical_annotations[i]\n",
    "            scaled_annotation = [(round(x*1/scale), round(y*1/scale)) for x, y in annotation]\n",
    "            numerical_annotations[i] = scaled_annotation\n",
    "            numerical_annotations\n",
    "        all_plygons = []\n",
    "        for i in (numerical_annotations):\n",
    "            lymph_node_polygon = np.array(i, dtype=np.int32)\n",
    "            lymph_node_polygon = lymph_node_polygon.reshape((-1, 1, 2))\n",
    "            all_plygons.append(lymph_node_polygon)\n",
    "            y = all_plygons\n",
    "     \n",
    "    h1 = round(h*scale)\n",
    "    w1=round(w*scale)\n",
    "    image_shape = (h1, w1) \n",
    "    binary_mask = np.zeros(image_shape, dtype=np.uint8)\n",
    "    binary_mask_2=cv2.fillPoly(binary_mask,y, 1) \n",
    "    #binary_mask_img = cv2.imwrite('test34.png',binary_mask*255)\n",
    "    return binary_mask_2 "
   ]
  },
  {
   "cell_type": "code",
   "execution_count": 5,
   "id": "1e6389b1-b49f-4a5f-a41b-ddb520aab107",
   "metadata": {
    "scrolled": true
   },
   "outputs": [
    {
     "name": "stdout",
     "output_type": "stream",
     "text": [
      "/drive4/Anshuman/testing_project/nodel_segmentation\n"
     ]
    }
   ],
   "source": [
    "cd '/drive4/Anshuman/testing_project/nodel_segmentation/'"
   ]
  },
  {
   "cell_type": "code",
   "execution_count": 6,
   "id": "267b8349-ce32-4c4a-a752-d895d26b115d",
   "metadata": {},
   "outputs": [],
   "source": [
    "df = pd.read_csv('node_file_name.csv')"
   ]
  },
  {
   "cell_type": "code",
   "execution_count": 7,
   "id": "d36c2f97-bfc9-44ee-bc37-61dc75c20533",
   "metadata": {
    "scrolled": true
   },
   "outputs": [
    {
     "name": "stdout",
     "output_type": "stream",
     "text": [
      "pxtwTqDIO2UqNMvJAO3-9g2\n"
     ]
    },
    {
     "name": "stderr",
     "output_type": "stream",
     "text": [
      "  0%|            | 1/203 [00:46<2:35:57, 46.32s/it]"
     ]
    },
    {
     "name": "stdout",
     "output_type": "stream",
     "text": [
      "Mask generated for CAIB-T00000034OC01R01R0708HE\n"
     ]
    },
    {
     "name": "stderr",
     "output_type": "stream",
     "text": [
      "  1%|            | 2/203 [01:08<1:47:53, 32.21s/it]"
     ]
    },
    {
     "name": "stdout",
     "output_type": "stream",
     "text": [
      "Mask generated for CAIB-T00000034OC01R01R0808HE\n"
     ]
    },
    {
     "name": "stderr",
     "output_type": "stream",
     "text": [
      "  1%|▏           | 3/203 [01:38<1:43:48, 31.14s/it]"
     ]
    },
    {
     "name": "stdout",
     "output_type": "stream",
     "text": [
      "Mask generated for CAIB-T00000034OC01R01R0909HE\n"
     ]
    },
    {
     "name": "stderr",
     "output_type": "stream",
     "text": [
      "  2%|▏           | 4/203 [02:00<1:31:28, 27.58s/it]"
     ]
    },
    {
     "name": "stdout",
     "output_type": "stream",
     "text": [
      "Mask generated for CAIB-T00000034OC01R01R1009HE\n"
     ]
    },
    {
     "name": "stderr",
     "output_type": "stream",
     "text": [
      "  2%|▎           | 5/203 [02:25<1:27:46, 26.60s/it]"
     ]
    },
    {
     "name": "stdout",
     "output_type": "stream",
     "text": [
      "Mask generated for CAIB-T00000034OC01R01R1109HE\n"
     ]
    },
    {
     "name": "stderr",
     "output_type": "stream",
     "text": [
      "  3%|▎           | 6/203 [02:27<1:00:15, 18.35s/it]"
     ]
    },
    {
     "name": "stdout",
     "output_type": "stream",
     "text": [
      "Mask generated for CAIB-T00000036OC01R01R0506HE\n"
     ]
    },
    {
     "name": "stderr",
     "output_type": "stream",
     "text": [
      "  3%|▍             | 7/203 [02:41<54:57, 16.82s/it]"
     ]
    },
    {
     "name": "stdout",
     "output_type": "stream",
     "text": [
      "Mask generated for CAIB-T00000036OC01R01R0608HE\n"
     ]
    },
    {
     "name": "stderr",
     "output_type": "stream",
     "text": [
      "  4%|▌             | 8/203 [02:54<50:26, 15.52s/it]"
     ]
    },
    {
     "name": "stdout",
     "output_type": "stream",
     "text": [
      "Mask generated for CAIB-T00000036OC01R01R0708HE\n"
     ]
    },
    {
     "name": "stderr",
     "output_type": "stream",
     "text": [
      "  4%|▌             | 9/203 [03:07<47:30, 14.69s/it]"
     ]
    },
    {
     "name": "stdout",
     "output_type": "stream",
     "text": [
      "Mask generated for CAIB-T00000036OC01R01R0708HE_2\n"
     ]
    },
    {
     "name": "stderr",
     "output_type": "stream",
     "text": [
      "  5%|▋            | 10/203 [03:33<59:21, 18.45s/it]"
     ]
    },
    {
     "name": "stdout",
     "output_type": "stream",
     "text": [
      "Mask generated for CAIB-T00000036OC01R01R0808HE\n"
     ]
    },
    {
     "name": "stderr",
     "output_type": "stream",
     "text": [
      "  5%|▋            | 11/203 [03:50<57:14, 17.89s/it]"
     ]
    },
    {
     "name": "stdout",
     "output_type": "stream",
     "text": [
      "Mask generated for CAIB-T00000036OC01R01R0908HE\n"
     ]
    },
    {
     "name": "stderr",
     "output_type": "stream",
     "text": [
      "  6%|▊            | 12/203 [04:06<54:40, 17.17s/it]"
     ]
    },
    {
     "name": "stdout",
     "output_type": "stream",
     "text": [
      "Mask generated for CAIB-T00000036OC01R01R1008HE\n"
     ]
    },
    {
     "name": "stderr",
     "output_type": "stream",
     "text": [
      "  6%|▊            | 13/203 [04:28<59:11, 18.69s/it]"
     ]
    },
    {
     "name": "stdout",
     "output_type": "stream",
     "text": [
      "Mask generated for CAIB-T00000039OC01R01R0301HE\n"
     ]
    },
    {
     "name": "stderr",
     "output_type": "stream",
     "text": [
      "  7%|▉            | 14/203 [04:30<43:21, 13.77s/it]"
     ]
    },
    {
     "name": "stdout",
     "output_type": "stream",
     "text": [
      "Mask generated for CAIB-T00000039OC01R01R0504HE\n"
     ]
    },
    {
     "name": "stderr",
     "output_type": "stream",
     "text": [
      "  7%|▉            | 15/203 [04:33<32:19, 10.32s/it]"
     ]
    },
    {
     "name": "stdout",
     "output_type": "stream",
     "text": [
      "Mask generated for CAIB-T00000039OC01R01R0705HE\n"
     ]
    },
    {
     "name": "stderr",
     "output_type": "stream",
     "text": [
      "  8%|█            | 16/203 [04:35<24:50,  7.97s/it]"
     ]
    },
    {
     "name": "stdout",
     "output_type": "stream",
     "text": [
      "Mask generated for CAIB-T00000039OC01R01R0806HE\n"
     ]
    },
    {
     "name": "stderr",
     "output_type": "stream",
     "text": [
      "  8%|█            | 17/203 [04:43<24:59,  8.06s/it]"
     ]
    },
    {
     "name": "stdout",
     "output_type": "stream",
     "text": [
      "Mask generated for CAIB-T00000039OC01R01R1007HE\n"
     ]
    },
    {
     "name": "stderr",
     "output_type": "stream",
     "text": [
      "  9%|█▏           | 18/203 [04:46<19:30,  6.33s/it]"
     ]
    },
    {
     "name": "stdout",
     "output_type": "stream",
     "text": [
      "Mask generated for CAIB-T00000039OC01R01R1108HE\n"
     ]
    },
    {
     "name": "stderr",
     "output_type": "stream",
     "text": [
      "  9%|█▏           | 19/203 [05:16<41:50, 13.64s/it]"
     ]
    },
    {
     "name": "stdout",
     "output_type": "stream",
     "text": [
      "Mask generated for CAIB-T00000058OC02R02R0618HE\n"
     ]
    },
    {
     "name": "stderr",
     "output_type": "stream",
     "text": [
      " 10%|█          | 20/203 [06:00<1:09:30, 22.79s/it]"
     ]
    },
    {
     "name": "stdout",
     "output_type": "stream",
     "text": [
      "Mask generated for CAIB-T00000058OC02R02R0720HE\n"
     ]
    },
    {
     "name": "stderr",
     "output_type": "stream",
     "text": [
      " 10%|█▏         | 21/203 [06:30<1:15:00, 24.73s/it]"
     ]
    },
    {
     "name": "stdout",
     "output_type": "stream",
     "text": [
      "Mask generated for CAIB-T00000058OC02R02R0821HE\n"
     ]
    },
    {
     "name": "stderr",
     "output_type": "stream",
     "text": [
      " 11%|█▏         | 22/203 [06:56<1:16:03, 25.21s/it]"
     ]
    },
    {
     "name": "stdout",
     "output_type": "stream",
     "text": [
      "Mask generated for CAIB-T00000058OC02R02R0924HE\n"
     ]
    },
    {
     "name": "stderr",
     "output_type": "stream",
     "text": [
      " 11%|█▏         | 23/203 [07:34<1:27:23, 29.13s/it]"
     ]
    },
    {
     "name": "stdout",
     "output_type": "stream",
     "text": [
      "Mask generated for CAIB-T00000061OC02R02S1721HE\n"
     ]
    },
    {
     "name": "stderr",
     "output_type": "stream",
     "text": [
      " 12%|█▎         | 24/203 [07:52<1:16:25, 25.62s/it]"
     ]
    },
    {
     "name": "stdout",
     "output_type": "stream",
     "text": [
      "Mask generated for CAIB-T00000061OC02R02S1822HE\n"
     ]
    },
    {
     "name": "stderr",
     "output_type": "stream",
     "text": [
      " 12%|█▎         | 25/203 [08:09<1:08:17, 23.02s/it]"
     ]
    },
    {
     "name": "stdout",
     "output_type": "stream",
     "text": [
      "Mask generated for CAIB-T00000061OC02R02S1822HE_2\n"
     ]
    },
    {
     "name": "stderr",
     "output_type": "stream",
     "text": [
      " 13%|█▋           | 26/203 [08:11<49:26, 16.76s/it]"
     ]
    },
    {
     "name": "stdout",
     "output_type": "stream",
     "text": [
      "Mask generated for CAIB-T00000061OC02R02S1925HE\n"
     ]
    },
    {
     "name": "stderr",
     "output_type": "stream",
     "text": [
      " 13%|█▋           | 27/203 [08:13<36:13, 12.35s/it]"
     ]
    },
    {
     "name": "stdout",
     "output_type": "stream",
     "text": [
      "Mask generated for CAIB-T00000061OC02R02S1925HE_2\n"
     ]
    },
    {
     "name": "stderr",
     "output_type": "stream",
     "text": [
      " 14%|█▊           | 28/203 [08:27<37:18, 12.79s/it]"
     ]
    },
    {
     "name": "stdout",
     "output_type": "stream",
     "text": [
      "Mask generated for CAIB-T00000061OC02R02S2026HE\n"
     ]
    },
    {
     "name": "stderr",
     "output_type": "stream",
     "text": [
      " 14%|█▊           | 29/203 [08:40<37:28, 12.92s/it]"
     ]
    },
    {
     "name": "stdout",
     "output_type": "stream",
     "text": [
      "Mask generated for CAIB-T00000061OC02R02S2127HE\n"
     ]
    },
    {
     "name": "stderr",
     "output_type": "stream",
     "text": [
      " 15%|█▉           | 30/203 [09:15<56:12, 19.50s/it]"
     ]
    },
    {
     "name": "stdout",
     "output_type": "stream",
     "text": [
      "Mask generated for CAIB-T00000061OC02R02S2127HE_2\n"
     ]
    },
    {
     "name": "stderr",
     "output_type": "stream",
     "text": [
      " 15%|█▉           | 31/203 [09:27<49:57, 17.43s/it]"
     ]
    },
    {
     "name": "stdout",
     "output_type": "stream",
     "text": [
      "Mask generated for CAIB-T00000061OC02R02S2227HE\n"
     ]
    },
    {
     "name": "stderr",
     "output_type": "stream",
     "text": [
      " 16%|██           | 32/203 [09:40<45:31, 15.97s/it]"
     ]
    },
    {
     "name": "stdout",
     "output_type": "stream",
     "text": [
      "Mask generated for CAIB-T00000061OC02R02S2327HE\n"
     ]
    },
    {
     "name": "stderr",
     "output_type": "stream",
     "text": [
      " 16%|██           | 33/203 [09:54<43:19, 15.29s/it]"
     ]
    },
    {
     "name": "stdout",
     "output_type": "stream",
     "text": [
      "Mask generated for CAIB-T00000061OC02R02S2427HE\n"
     ]
    },
    {
     "name": "stderr",
     "output_type": "stream",
     "text": [
      " 17%|██▏          | 34/203 [10:07<41:13, 14.64s/it]"
     ]
    },
    {
     "name": "stdout",
     "output_type": "stream",
     "text": [
      "Mask generated for CAIB-T00000061OC02R02S2527HE\n"
     ]
    },
    {
     "name": "stderr",
     "output_type": "stream",
     "text": [
      " 17%|██▏          | 35/203 [10:19<39:18, 14.04s/it]"
     ]
    },
    {
     "name": "stdout",
     "output_type": "stream",
     "text": [
      "Mask generated for CAIB-T00000061OC02R02S2627HE\n"
     ]
    },
    {
     "name": "stderr",
     "output_type": "stream",
     "text": [
      " 18%|██▎          | 36/203 [10:32<38:03, 13.67s/it]"
     ]
    },
    {
     "name": "stdout",
     "output_type": "stream",
     "text": [
      "Mask generated for CAIB-T00000061OC02R02S2727HE\n"
     ]
    },
    {
     "name": "stderr",
     "output_type": "stream",
     "text": [
      " 18%|██▎          | 37/203 [10:45<37:09, 13.43s/it]"
     ]
    },
    {
     "name": "stdout",
     "output_type": "stream",
     "text": [
      "Mask generated for CAIB-T00000061OC02R02S2827HE\n"
     ]
    },
    {
     "name": "stderr",
     "output_type": "stream",
     "text": [
      " 19%|██▍          | 38/203 [10:59<37:05, 13.49s/it]"
     ]
    },
    {
     "name": "stdout",
     "output_type": "stream",
     "text": [
      "Mask generated for CAIB-T00000061OC02R02S2827HE_2\n"
     ]
    },
    {
     "name": "stderr",
     "output_type": "stream",
     "text": [
      " 19%|██▍          | 39/203 [11:13<37:14, 13.62s/it]"
     ]
    },
    {
     "name": "stdout",
     "output_type": "stream",
     "text": [
      "Mask generated for CAIB-T00000070OC01R01R0101HE\n"
     ]
    },
    {
     "name": "stderr",
     "output_type": "stream",
     "text": [
      " 20%|██▌          | 40/203 [11:30<39:43, 14.62s/it]"
     ]
    },
    {
     "name": "stdout",
     "output_type": "stream",
     "text": [
      "Mask generated for CAIB-T00000070OC01R01R0202HE\n"
     ]
    },
    {
     "name": "stderr",
     "output_type": "stream",
     "text": [
      " 20%|██▋          | 41/203 [11:43<38:48, 14.37s/it]"
     ]
    },
    {
     "name": "stdout",
     "output_type": "stream",
     "text": [
      "Mask generated for CAIB-T00000070OC01R01R0305HE\n"
     ]
    },
    {
     "name": "stderr",
     "output_type": "stream",
     "text": [
      " 21%|██▋          | 42/203 [11:59<39:49, 14.84s/it]"
     ]
    },
    {
     "name": "stdout",
     "output_type": "stream",
     "text": [
      "Mask generated for CAIB-T00000070OC01R01R0405HE\n"
     ]
    },
    {
     "name": "stderr",
     "output_type": "stream",
     "text": [
      " 21%|██▊          | 43/203 [12:21<45:05, 16.91s/it]"
     ]
    },
    {
     "name": "stdout",
     "output_type": "stream",
     "text": [
      "Mask generated for CAIB-T00000070OC01R01R0508HE\n"
     ]
    },
    {
     "name": "stderr",
     "output_type": "stream",
     "text": [
      " 22%|██▊          | 44/203 [12:34<41:36, 15.70s/it]"
     ]
    },
    {
     "name": "stdout",
     "output_type": "stream",
     "text": [
      "Mask generated for CAIB-T00000083OC01R01R0101HE\n"
     ]
    },
    {
     "name": "stderr",
     "output_type": "stream",
     "text": [
      " 22%|██▉          | 45/203 [12:56<46:29, 17.66s/it]"
     ]
    },
    {
     "name": "stdout",
     "output_type": "stream",
     "text": [
      "Mask generated for CAIB-T00000083OC01R01R0201HE\n"
     ]
    },
    {
     "name": "stderr",
     "output_type": "stream",
     "text": [
      " 23%|██▉          | 46/203 [13:11<44:03, 16.83s/it]"
     ]
    },
    {
     "name": "stdout",
     "output_type": "stream",
     "text": [
      "Mask generated for CAIB-T00000083OC01R01R0402HE\n"
     ]
    },
    {
     "name": "stderr",
     "output_type": "stream",
     "text": [
      " 23%|███          | 47/203 [13:26<41:59, 16.15s/it]"
     ]
    },
    {
     "name": "stdout",
     "output_type": "stream",
     "text": [
      "Mask generated for CAIB-T00000083OC01R01R0705HE\n"
     ]
    },
    {
     "name": "stderr",
     "output_type": "stream",
     "text": [
      " 24%|███          | 48/203 [13:48<46:30, 18.00s/it]"
     ]
    },
    {
     "name": "stdout",
     "output_type": "stream",
     "text": [
      "Mask generated for CAIB-T00000087OC01R02R0101HE\n"
     ]
    },
    {
     "name": "stderr",
     "output_type": "stream",
     "text": [
      " 24%|███▏         | 49/203 [13:51<34:22, 13.39s/it]"
     ]
    },
    {
     "name": "stdout",
     "output_type": "stream",
     "text": [
      "Mask generated for CAIB-T00000087OC01R02R0202HE\n"
     ]
    },
    {
     "name": "stderr",
     "output_type": "stream",
     "text": [
      " 25%|███▏         | 50/203 [14:09<37:45, 14.81s/it]"
     ]
    },
    {
     "name": "stdout",
     "output_type": "stream",
     "text": [
      "Mask generated for CAIB-T00000087OC01R02R0303HE\n"
     ]
    },
    {
     "name": "stderr",
     "output_type": "stream",
     "text": [
      " 25%|███▎         | 51/203 [14:45<53:54, 21.28s/it]"
     ]
    },
    {
     "name": "stdout",
     "output_type": "stream",
     "text": [
      "Mask generated for CAIB-T00000099OC01R01R0404HE\n"
     ]
    },
    {
     "name": "stderr",
     "output_type": "stream",
     "text": [
      " 26%|███▎         | 52/203 [15:10<56:31, 22.46s/it]"
     ]
    },
    {
     "name": "stdout",
     "output_type": "stream",
     "text": [
      "Mask generated for CAIB-T00000099OC01R01R0607HE\n"
     ]
    },
    {
     "name": "stderr",
     "output_type": "stream",
     "text": [
      " 26%|███▍         | 53/203 [15:24<49:48, 19.93s/it]"
     ]
    },
    {
     "name": "stdout",
     "output_type": "stream",
     "text": [
      "Mask generated for CAIB-T00000140OC02R02R0617HE\n"
     ]
    },
    {
     "name": "stderr",
     "output_type": "stream",
     "text": [
      " 27%|███▍         | 54/203 [15:41<46:56, 18.90s/it]"
     ]
    },
    {
     "name": "stdout",
     "output_type": "stream",
     "text": [
      "Mask generated for CAIB-T00000140OC02R02R0718HE\n"
     ]
    },
    {
     "name": "stderr",
     "output_type": "stream",
     "text": [
      " 27%|███▌         | 55/203 [15:54<42:25, 17.20s/it]"
     ]
    },
    {
     "name": "stdout",
     "output_type": "stream",
     "text": [
      "Mask generated for CAIB-T00000140OC02R02R0920HE\n"
     ]
    },
    {
     "name": "stderr",
     "output_type": "stream",
     "text": [
      " 28%|███▌         | 56/203 [16:12<42:35, 17.39s/it]"
     ]
    },
    {
     "name": "stdout",
     "output_type": "stream",
     "text": [
      "Mask generated for CAIB-T00000140OC02R02R1021HE\n"
     ]
    },
    {
     "name": "stderr",
     "output_type": "stream",
     "text": [
      " 28%|███▋         | 57/203 [16:35<46:18, 19.03s/it]"
     ]
    },
    {
     "name": "stdout",
     "output_type": "stream",
     "text": [
      "Mask generated for CAIB-T00000142OC02R02R0909HE\n"
     ]
    },
    {
     "name": "stderr",
     "output_type": "stream",
     "text": [
      " 29%|███▋         | 58/203 [17:06<55:04, 22.79s/it]"
     ]
    },
    {
     "name": "stdout",
     "output_type": "stream",
     "text": [
      "Mask generated for CAIB-T00000142OC02R02R1211HE\n"
     ]
    },
    {
     "name": "stderr",
     "output_type": "stream",
     "text": [
      " 29%|███▏       | 59/203 [17:59<1:16:32, 31.89s/it]"
     ]
    },
    {
     "name": "stdout",
     "output_type": "stream",
     "text": [
      "Mask generated for CAIB-T00000142OC02R02R1414HE\n"
     ]
    },
    {
     "name": "stderr",
     "output_type": "stream",
     "text": [
      " 30%|███▎       | 60/203 [18:42<1:23:26, 35.01s/it]"
     ]
    },
    {
     "name": "stdout",
     "output_type": "stream",
     "text": [
      "Mask generated for CAIB-T00000142OC02R02R1615HE\n"
     ]
    },
    {
     "name": "stderr",
     "output_type": "stream",
     "text": [
      " 30%|███▎       | 61/203 [18:55<1:07:35, 28.56s/it]"
     ]
    },
    {
     "name": "stdout",
     "output_type": "stream",
     "text": [
      "Mask generated for CAIB-T00000142OC02R02R1817HE\n"
     ]
    },
    {
     "name": "stderr",
     "output_type": "stream",
     "text": [
      " 31%|███▎       | 62/203 [19:19<1:03:40, 27.10s/it]"
     ]
    },
    {
     "name": "stdout",
     "output_type": "stream",
     "text": [
      "Mask generated for CAIB-T00000142OC02R02R2018HE\n"
     ]
    },
    {
     "name": "stderr",
     "output_type": "stream",
     "text": [
      " 31%|███▍       | 63/203 [19:50<1:05:41, 28.15s/it]"
     ]
    },
    {
     "name": "stdout",
     "output_type": "stream",
     "text": [
      "Mask generated for CAIB-T00000142OC02R02R2120HE\n"
     ]
    },
    {
     "name": "stderr",
     "output_type": "stream",
     "text": [
      " 32%|███▍       | 64/203 [20:42<1:21:59, 35.39s/it]"
     ]
    },
    {
     "name": "stdout",
     "output_type": "stream",
     "text": [
      "Mask generated for CAIB-T00000152OC02R01R3013HE\n"
     ]
    },
    {
     "name": "stderr",
     "output_type": "stream",
     "text": [
      " 32%|███▌       | 65/203 [21:17<1:21:36, 35.48s/it]"
     ]
    },
    {
     "name": "stdout",
     "output_type": "stream",
     "text": [
      "Mask generated for CAIB-T00000152OC02R01R3013HE_2\n"
     ]
    },
    {
     "name": "stderr",
     "output_type": "stream",
     "text": [
      " 33%|███▌       | 66/203 [21:40<1:11:59, 31.53s/it]"
     ]
    },
    {
     "name": "stdout",
     "output_type": "stream",
     "text": [
      "Mask generated for CAIB-T00000152OC02R01R3214HE\n"
     ]
    },
    {
     "name": "stderr",
     "output_type": "stream",
     "text": [
      " 33%|███▋       | 67/203 [22:03<1:05:47, 29.03s/it]"
     ]
    },
    {
     "name": "stdout",
     "output_type": "stream",
     "text": [
      "Mask generated for CAIB-T00000152OC02R01R3214HE_2\n"
     ]
    },
    {
     "name": "stderr",
     "output_type": "stream",
     "text": [
      " 33%|████▎        | 68/203 [22:20<56:57, 25.31s/it]"
     ]
    },
    {
     "name": "stdout",
     "output_type": "stream",
     "text": [
      "Mask generated for CAIB-T00000152OC02R01R3415HE\n"
     ]
    },
    {
     "name": "stderr",
     "output_type": "stream",
     "text": [
      " 34%|████▍        | 69/203 [22:37<50:55, 22.80s/it]"
     ]
    },
    {
     "name": "stdout",
     "output_type": "stream",
     "text": [
      "Mask generated for CAIB-T00000152OC02R01R3415HE_2\n"
     ]
    },
    {
     "name": "stderr",
     "output_type": "stream",
     "text": [
      " 34%|████▍        | 70/203 [22:59<50:34, 22.82s/it]"
     ]
    },
    {
     "name": "stdout",
     "output_type": "stream",
     "text": [
      "Mask generated for CAIB-T00000152OC02R01R3516HE\n"
     ]
    },
    {
     "name": "stderr",
     "output_type": "stream",
     "text": [
      " 35%|████▌        | 71/203 [23:22<49:49, 22.65s/it]"
     ]
    },
    {
     "name": "stdout",
     "output_type": "stream",
     "text": [
      "Mask generated for CAIB-T00000152OC02R01R3616HE\n"
     ]
    },
    {
     "name": "stderr",
     "output_type": "stream",
     "text": [
      " 35%|████▌        | 72/203 [23:44<49:23, 22.62s/it]"
     ]
    },
    {
     "name": "stdout",
     "output_type": "stream",
     "text": [
      "Mask generated for CAIB-T00000152OC02R01R3616HE_2\n"
     ]
    },
    {
     "name": "stderr",
     "output_type": "stream",
     "text": [
      " 36%|████▋        | 73/203 [24:07<48:49, 22.54s/it]"
     ]
    },
    {
     "name": "stdout",
     "output_type": "stream",
     "text": [
      "Mask generated for CAIB-T00000152OC02R01R3616HE_2_3\n"
     ]
    },
    {
     "name": "stderr",
     "output_type": "stream",
     "text": [
      " 36%|████▋        | 74/203 [24:29<48:05, 22.37s/it]"
     ]
    },
    {
     "name": "stdout",
     "output_type": "stream",
     "text": [
      "Mask generated for CAIB-T00000152OC02R01R3716HE\n"
     ]
    },
    {
     "name": "stderr",
     "output_type": "stream",
     "text": [
      " 37%|████▊        | 75/203 [24:53<49:14, 23.09s/it]"
     ]
    },
    {
     "name": "stdout",
     "output_type": "stream",
     "text": [
      "Mask generated for CAIB-T00000152OC02R01R3916HE\n"
     ]
    },
    {
     "name": "stderr",
     "output_type": "stream",
     "text": [
      " 37%|████▊        | 76/203 [25:15<48:01, 22.69s/it]"
     ]
    },
    {
     "name": "stdout",
     "output_type": "stream",
     "text": [
      "Mask generated for CAIB-T00000152OC02R01R4016HE\n"
     ]
    },
    {
     "name": "stderr",
     "output_type": "stream",
     "text": [
      " 38%|████▉        | 77/203 [25:37<47:20, 22.54s/it]"
     ]
    },
    {
     "name": "stdout",
     "output_type": "stream",
     "text": [
      "Mask generated for CAIB-T00000152OC02R01R4016HE_2\n"
     ]
    },
    {
     "name": "stderr",
     "output_type": "stream",
     "text": [
      " 38%|████▉        | 78/203 [25:58<46:06, 22.13s/it]"
     ]
    },
    {
     "name": "stdout",
     "output_type": "stream",
     "text": [
      "Mask generated for CAIB-T00000152OC02R01R4116HE\n"
     ]
    },
    {
     "name": "stderr",
     "output_type": "stream",
     "text": [
      " 39%|█████        | 79/203 [26:20<45:32, 22.04s/it]"
     ]
    },
    {
     "name": "stdout",
     "output_type": "stream",
     "text": [
      "Mask generated for CAIB-T00000152OC02R01R4216HE\n"
     ]
    },
    {
     "name": "stderr",
     "output_type": "stream",
     "text": [
      " 39%|█████        | 80/203 [26:45<46:40, 22.77s/it]"
     ]
    },
    {
     "name": "stdout",
     "output_type": "stream",
     "text": [
      "Mask generated for CAIB-T00000152OC02R01R4619HE\n"
     ]
    },
    {
     "name": "stderr",
     "output_type": "stream",
     "text": [
      " 40%|█████▏       | 81/203 [27:10<47:34, 23.40s/it]"
     ]
    },
    {
     "name": "stdout",
     "output_type": "stream",
     "text": [
      "Mask generated for CAIB-T00000152OC02R01R4719HE\n"
     ]
    },
    {
     "name": "stderr",
     "output_type": "stream",
     "text": [
      " 40%|█████▎       | 82/203 [27:42<52:50, 26.20s/it]"
     ]
    },
    {
     "name": "stdout",
     "output_type": "stream",
     "text": [
      "Mask generated for CAIB-T00000152OC02R01R4719HE_2\n"
     ]
    },
    {
     "name": "stderr",
     "output_type": "stream",
     "text": [
      " 41%|█████▎       | 83/203 [28:14<55:22, 27.69s/it]"
     ]
    },
    {
     "name": "stdout",
     "output_type": "stream",
     "text": [
      "Mask generated for CAIB-T00000152OC02R01R4719HE_2_3\n"
     ]
    },
    {
     "name": "stderr",
     "output_type": "stream",
     "text": [
      " 41%|█████▍       | 84/203 [28:41<54:35, 27.53s/it]"
     ]
    },
    {
     "name": "stdout",
     "output_type": "stream",
     "text": [
      "Mask generated for CAIB-T00000152OC02R01R4819HE\n"
     ]
    },
    {
     "name": "stderr",
     "output_type": "stream",
     "text": [
      " 42%|█████▍       | 85/203 [29:06<53:07, 27.01s/it]"
     ]
    },
    {
     "name": "stdout",
     "output_type": "stream",
     "text": [
      "Mask generated for CAIB-T00000152OC02R01R4919HE\n"
     ]
    },
    {
     "name": "stderr",
     "output_type": "stream",
     "text": [
      " 42%|█████▌       | 86/203 [29:28<49:41, 25.49s/it]"
     ]
    },
    {
     "name": "stdout",
     "output_type": "stream",
     "text": [
      "Mask generated for CAIB-T00000152OC02R01R5019HE\n"
     ]
    },
    {
     "name": "stderr",
     "output_type": "stream",
     "text": [
      " 43%|█████▌       | 87/203 [29:53<48:41, 25.19s/it]"
     ]
    },
    {
     "name": "stdout",
     "output_type": "stream",
     "text": [
      "Mask generated for CAIB-T00000152OC02R01R5119HE\n"
     ]
    },
    {
     "name": "stderr",
     "output_type": "stream",
     "text": [
      " 43%|█████▋       | 88/203 [30:19<48:42, 25.41s/it]"
     ]
    },
    {
     "name": "stdout",
     "output_type": "stream",
     "text": [
      "Mask generated for CAIB-T00000152OC02R01R5219HE\n"
     ]
    },
    {
     "name": "stderr",
     "output_type": "stream",
     "text": [
      " 44%|█████▋       | 89/203 [30:45<48:47, 25.68s/it]"
     ]
    },
    {
     "name": "stdout",
     "output_type": "stream",
     "text": [
      "Mask generated for CAIB-T00000152OC02R01R5319HE\n"
     ]
    },
    {
     "name": "stderr",
     "output_type": "stream",
     "text": [
      " 44%|█████▊       | 90/203 [31:10<48:01, 25.50s/it]"
     ]
    },
    {
     "name": "stdout",
     "output_type": "stream",
     "text": [
      "Mask generated for CAIB-T00000152OC02R01R5720HE\n"
     ]
    },
    {
     "name": "stderr",
     "output_type": "stream",
     "text": [
      " 45%|█████▊       | 91/203 [31:32<45:46, 24.52s/it]"
     ]
    },
    {
     "name": "stdout",
     "output_type": "stream",
     "text": [
      "Mask generated for CAIB-T00000152OC02R01R5720HE_2\n"
     ]
    },
    {
     "name": "stderr",
     "output_type": "stream",
     "text": [
      " 45%|█████▉       | 92/203 [32:07<51:12, 27.68s/it]"
     ]
    },
    {
     "name": "stdout",
     "output_type": "stream",
     "text": [
      "Mask generated for CAIB-T00000173OC02R02R0512HE\n"
     ]
    },
    {
     "name": "stderr",
     "output_type": "stream",
     "text": [
      " 46%|█████▉       | 93/203 [32:42<54:14, 29.59s/it]"
     ]
    },
    {
     "name": "stdout",
     "output_type": "stream",
     "text": [
      "Mask generated for CAIB-T00000173OC02R02R0613HE\n"
     ]
    },
    {
     "name": "stderr",
     "output_type": "stream",
     "text": [
      " 46%|██████       | 94/203 [33:15<55:57, 30.80s/it]"
     ]
    },
    {
     "name": "stdout",
     "output_type": "stream",
     "text": [
      "Mask generated for CAIB-T00000189OC03R03R0515HE\n"
     ]
    },
    {
     "name": "stderr",
     "output_type": "stream",
     "text": [
      " 47%|██████       | 95/203 [33:41<52:47, 29.33s/it]"
     ]
    },
    {
     "name": "stdout",
     "output_type": "stream",
     "text": [
      "Mask generated for CAIB-T00000189OC03R03R0616HE\n"
     ]
    },
    {
     "name": "stderr",
     "output_type": "stream",
     "text": [
      " 47%|██████▏      | 96/203 [33:54<43:29, 24.38s/it]"
     ]
    },
    {
     "name": "stdout",
     "output_type": "stream",
     "text": [
      "Mask generated for CAIB-T00000189OC03R03R0717HE\n"
     ]
    },
    {
     "name": "stderr",
     "output_type": "stream",
     "text": [
      " 48%|██████▏      | 97/203 [34:35<51:43, 29.28s/it]"
     ]
    },
    {
     "name": "stdout",
     "output_type": "stream",
     "text": [
      "Mask generated for CAIB-T00000189OC03R03R0818HE\n"
     ]
    },
    {
     "name": "stderr",
     "output_type": "stream",
     "text": [
      " 48%|██████▎      | 98/203 [34:57<47:29, 27.14s/it]"
     ]
    },
    {
     "name": "stdout",
     "output_type": "stream",
     "text": [
      "Mask generated for CAIB-T00000189OC03R03R0919HE\n"
     ]
    },
    {
     "name": "stderr",
     "output_type": "stream",
     "text": [
      " 49%|██████▎      | 99/203 [35:13<41:28, 23.92s/it]"
     ]
    },
    {
     "name": "stdout",
     "output_type": "stream",
     "text": [
      "Mask generated for CAIB-T00000189OC03R03R1020HE\n"
     ]
    },
    {
     "name": "stderr",
     "output_type": "stream",
     "text": [
      " 49%|█████▉      | 100/203 [35:35<39:48, 23.19s/it]"
     ]
    },
    {
     "name": "stdout",
     "output_type": "stream",
     "text": [
      "Mask generated for CAIB-T00000189OC03R03R1128HE\n"
     ]
    },
    {
     "name": "stderr",
     "output_type": "stream",
     "text": [
      " 50%|█████▉      | 101/203 [35:51<35:45, 21.03s/it]"
     ]
    },
    {
     "name": "stdout",
     "output_type": "stream",
     "text": [
      "Mask generated for CAIB-T00000189OC03R03R1229HE\n"
     ]
    },
    {
     "name": "stderr",
     "output_type": "stream",
     "text": [
      " 50%|██████      | 102/203 [35:54<26:32, 15.77s/it]"
     ]
    },
    {
     "name": "stdout",
     "output_type": "stream",
     "text": [
      "Mask generated for CAIB-T00000189OC03R03R1330HE\n"
     ]
    },
    {
     "name": "stderr",
     "output_type": "stream",
     "text": [
      " 51%|██████      | 103/203 [36:17<29:43, 17.83s/it]"
     ]
    },
    {
     "name": "stdout",
     "output_type": "stream",
     "text": [
      "Mask generated for CAIB-T00000189OC03R03R1433HE\n"
     ]
    },
    {
     "name": "stderr",
     "output_type": "stream",
     "text": [
      " 51%|██████▏     | 104/203 [36:30<27:16, 16.53s/it]"
     ]
    },
    {
     "name": "stdout",
     "output_type": "stream",
     "text": [
      "Mask generated for CAIB-T00000189OC03R03R1534HE\n"
     ]
    },
    {
     "name": "stderr",
     "output_type": "stream",
     "text": [
      " 52%|██████▏     | 105/203 [37:01<34:04, 20.86s/it]"
     ]
    },
    {
     "name": "stdout",
     "output_type": "stream",
     "text": [
      "Mask generated for CAIB-T00000290OC02R01R0823HE\n"
     ]
    },
    {
     "name": "stderr",
     "output_type": "stream",
     "text": [
      " 52%|██████▎     | 106/203 [37:32<38:34, 23.86s/it]"
     ]
    },
    {
     "name": "stdout",
     "output_type": "stream",
     "text": [
      "Mask generated for CAIB-T00000290OC02R01R1024HE\n"
     ]
    },
    {
     "name": "stderr",
     "output_type": "stream",
     "text": [
      " 53%|██████▎     | 107/203 [38:06<42:51, 26.79s/it]"
     ]
    },
    {
     "name": "stdout",
     "output_type": "stream",
     "text": [
      "Mask generated for CAIB-T00000354OC02R02R0615HE\n"
     ]
    },
    {
     "name": "stderr",
     "output_type": "stream",
     "text": [
      " 53%|██████▍     | 108/203 [38:39<45:35, 28.80s/it]"
     ]
    },
    {
     "name": "stdout",
     "output_type": "stream",
     "text": [
      "Mask generated for CAIB-T00000405OC01R01R0406HE\n"
     ]
    },
    {
     "name": "stderr",
     "output_type": "stream",
     "text": [
      " 54%|██████▍     | 109/203 [39:10<45:56, 29.32s/it]"
     ]
    },
    {
     "name": "stdout",
     "output_type": "stream",
     "text": [
      "Mask generated for CAIB-T00000405OC01R01R0506HE\n"
     ]
    },
    {
     "name": "stderr",
     "output_type": "stream",
     "text": [
      " 54%|██████▌     | 110/203 [39:33<42:24, 27.36s/it]"
     ]
    },
    {
     "name": "stdout",
     "output_type": "stream",
     "text": [
      "Mask generated for CAIB-T00000405OC01R01R0608HE\n"
     ]
    },
    {
     "name": "stderr",
     "output_type": "stream",
     "text": [
      " 55%|██████▌     | 111/203 [40:02<42:58, 28.03s/it]"
     ]
    },
    {
     "name": "stdout",
     "output_type": "stream",
     "text": [
      "Mask generated for CAIB-T00000405OC01R01R0708HE\n"
     ]
    },
    {
     "name": "stderr",
     "output_type": "stream",
     "text": [
      " 55%|██████▌     | 112/203 [40:19<37:30, 24.74s/it]"
     ]
    },
    {
     "name": "stdout",
     "output_type": "stream",
     "text": [
      "Mask generated for CAIB-T00000412OC01R01R0407HE\n"
     ]
    },
    {
     "name": "stderr",
     "output_type": "stream",
     "text": [
      " 56%|██████▋     | 113/203 [40:42<36:02, 24.03s/it]"
     ]
    },
    {
     "name": "stdout",
     "output_type": "stream",
     "text": [
      "Mask generated for CAIB-T00000412OC01R01R0508HE\n"
     ]
    },
    {
     "name": "stderr",
     "output_type": "stream",
     "text": [
      " 56%|██████▋     | 114/203 [41:03<34:33, 23.29s/it]"
     ]
    },
    {
     "name": "stdout",
     "output_type": "stream",
     "text": [
      "Mask generated for CAIB-T00000412OC01R01R0608HE\n"
     ]
    },
    {
     "name": "stderr",
     "output_type": "stream",
     "text": [
      " 57%|██████▊     | 115/203 [41:36<38:23, 26.18s/it]"
     ]
    },
    {
     "name": "stdout",
     "output_type": "stream",
     "text": [
      "Mask generated for CAIB-T00000419OC01R01R0402HE\n"
     ]
    },
    {
     "name": "stderr",
     "output_type": "stream",
     "text": [
      " 57%|██████▊     | 116/203 [42:01<37:35, 25.92s/it]"
     ]
    },
    {
     "name": "stdout",
     "output_type": "stream",
     "text": [
      "Mask generated for CAIB-T00000419OC01R01R0715HE\n"
     ]
    },
    {
     "name": "stderr",
     "output_type": "stream",
     "text": [
      " 58%|██████▉     | 117/203 [42:35<40:22, 28.17s/it]"
     ]
    },
    {
     "name": "stdout",
     "output_type": "stream",
     "text": [
      "Mask generated for CAIB-T00000419OC01R01R0818HE\n"
     ]
    },
    {
     "name": "stderr",
     "output_type": "stream",
     "text": [
      " 58%|██████▉     | 118/203 [43:25<49:17, 34.80s/it]"
     ]
    },
    {
     "name": "stdout",
     "output_type": "stream",
     "text": [
      "Mask generated for CAIB-T00000420OC01R01R0607HE\n"
     ]
    },
    {
     "name": "stderr",
     "output_type": "stream",
     "text": [
      " 59%|███████     | 119/203 [44:04<50:37, 36.16s/it]"
     ]
    },
    {
     "name": "stdout",
     "output_type": "stream",
     "text": [
      "Mask generated for CAIB-T00000420OC01R01R0707HE\n"
     ]
    },
    {
     "name": "stderr",
     "output_type": "stream",
     "text": [
      " 59%|███████     | 120/203 [44:35<47:48, 34.56s/it]"
     ]
    },
    {
     "name": "stdout",
     "output_type": "stream",
     "text": [
      "Mask generated for CAIB-T00000420OC01R01R0909HE\n"
     ]
    },
    {
     "name": "stderr",
     "output_type": "stream",
     "text": [
      " 60%|███████▏    | 121/203 [44:49<38:49, 28.41s/it]"
     ]
    },
    {
     "name": "stdout",
     "output_type": "stream",
     "text": [
      "Mask generated for CAIB-T00000421OC01R01R1208HE\n"
     ]
    },
    {
     "name": "stderr",
     "output_type": "stream",
     "text": [
      " 60%|███████▏    | 122/203 [45:12<36:08, 26.77s/it]"
     ]
    },
    {
     "name": "stdout",
     "output_type": "stream",
     "text": [
      "Mask generated for CAIB-T00000421OC01R01R1208HE_2\n"
     ]
    },
    {
     "name": "stderr",
     "output_type": "stream",
     "text": [
      " 61%|███████▎    | 123/203 [45:26<30:41, 23.01s/it]"
     ]
    },
    {
     "name": "stdout",
     "output_type": "stream",
     "text": [
      "Mask generated for CAIB-T00000421OC01R01R1308HE\n"
     ]
    },
    {
     "name": "stderr",
     "output_type": "stream",
     "text": [
      " 61%|███████▎    | 124/203 [45:44<28:17, 21.48s/it]"
     ]
    },
    {
     "name": "stdout",
     "output_type": "stream",
     "text": [
      "Mask generated for CAIB-T00000421OC01R01R1408HE\n"
     ]
    },
    {
     "name": "stderr",
     "output_type": "stream",
     "text": [
      " 62%|███████▍    | 125/203 [46:01<26:08, 20.11s/it]"
     ]
    },
    {
     "name": "stdout",
     "output_type": "stream",
     "text": [
      "Mask generated for CAIB-T00000421OC01R01R1508HE\n"
     ]
    },
    {
     "name": "stderr",
     "output_type": "stream",
     "text": [
      " 62%|███████▍    | 126/203 [46:31<29:32, 23.02s/it]"
     ]
    },
    {
     "name": "stdout",
     "output_type": "stream",
     "text": [
      "Mask generated for CAIB-T00000421OC01R01R1508HE_2\n"
     ]
    },
    {
     "name": "stderr",
     "output_type": "stream",
     "text": [
      " 63%|███████▌    | 127/203 [46:45<25:46, 20.34s/it]"
     ]
    },
    {
     "name": "stdout",
     "output_type": "stream",
     "text": [
      "Mask generated for CAIB-T00000421OC01R01R1608HE\n"
     ]
    },
    {
     "name": "stderr",
     "output_type": "stream",
     "text": [
      " 63%|███████▌    | 128/203 [47:00<23:14, 18.60s/it]"
     ]
    },
    {
     "name": "stdout",
     "output_type": "stream",
     "text": [
      "Mask generated for CAIB-T00000421OC01R01R1708HE\n"
     ]
    },
    {
     "name": "stderr",
     "output_type": "stream",
     "text": [
      " 64%|███████▋    | 129/203 [47:16<22:12, 18.01s/it]"
     ]
    },
    {
     "name": "stdout",
     "output_type": "stream",
     "text": [
      "Mask generated for CAIB-T00000421OC01R01R1808HE\n"
     ]
    },
    {
     "name": "stderr",
     "output_type": "stream",
     "text": [
      " 64%|███████▋    | 130/203 [47:32<21:08, 17.37s/it]"
     ]
    },
    {
     "name": "stdout",
     "output_type": "stream",
     "text": [
      "Mask generated for CAIB-T00000421OC01R01R1908HE\n"
     ]
    },
    {
     "name": "stderr",
     "output_type": "stream",
     "text": [
      " 65%|███████▋    | 131/203 [47:47<19:49, 16.52s/it]"
     ]
    },
    {
     "name": "stdout",
     "output_type": "stream",
     "text": [
      "Mask generated for CAIB-T00000421OC01R01R2008HE\n"
     ]
    },
    {
     "name": "stderr",
     "output_type": "stream",
     "text": [
      " 65%|███████▊    | 132/203 [48:13<23:09, 19.57s/it]"
     ]
    },
    {
     "name": "stdout",
     "output_type": "stream",
     "text": [
      "Mask generated for CAIB-T00000421OC01R01R2108HE\n"
     ]
    },
    {
     "name": "stderr",
     "output_type": "stream",
     "text": [
      " 66%|███████▊    | 133/203 [48:38<24:31, 21.03s/it]"
     ]
    },
    {
     "name": "stdout",
     "output_type": "stream",
     "text": [
      "Mask generated for CAIB-T00000421OC01R01R2208HE\n"
     ]
    },
    {
     "name": "stderr",
     "output_type": "stream",
     "text": [
      " 66%|███████▉    | 134/203 [49:24<32:55, 28.63s/it]"
     ]
    },
    {
     "name": "stdout",
     "output_type": "stream",
     "text": [
      "Mask generated for CAIB-T00000422OC01R02R0305HE\n"
     ]
    },
    {
     "name": "stderr",
     "output_type": "stream",
     "text": [
      " 67%|███████▉    | 135/203 [50:12<38:48, 34.24s/it]"
     ]
    },
    {
     "name": "stdout",
     "output_type": "stream",
     "text": [
      "Mask generated for CAIB-T00000422OC01R02R0706HE\n"
     ]
    },
    {
     "name": "stderr",
     "output_type": "stream",
     "text": [
      " 67%|████████    | 136/203 [50:58<42:23, 37.96s/it]"
     ]
    },
    {
     "name": "stdout",
     "output_type": "stream",
     "text": [
      "Mask generated for CAIB-T00000422OC01R02R0806HE\n"
     ]
    },
    {
     "name": "stderr",
     "output_type": "stream",
     "text": [
      " 67%|████████    | 137/203 [51:13<34:11, 31.09s/it]"
     ]
    },
    {
     "name": "stdout",
     "output_type": "stream",
     "text": [
      "Mask generated for CAIB-T00000422OC02R01R1714HE\n"
     ]
    },
    {
     "name": "stderr",
     "output_type": "stream",
     "text": [
      " 68%|████████▏   | 138/203 [51:27<28:05, 25.93s/it]"
     ]
    },
    {
     "name": "stdout",
     "output_type": "stream",
     "text": [
      "Mask generated for CAIB-T00000422OC02R01R1814HE\n"
     ]
    },
    {
     "name": "stderr",
     "output_type": "stream",
     "text": [
      " 68%|████████▏   | 139/203 [52:13<34:08, 32.01s/it]"
     ]
    },
    {
     "name": "stdout",
     "output_type": "stream",
     "text": [
      "Mask generated for CAIB-T00000422OC02R01R1915HE\n"
     ]
    },
    {
     "name": "stderr",
     "output_type": "stream",
     "text": [
      " 69%|████████▎   | 140/203 [52:32<29:20, 27.95s/it]"
     ]
    },
    {
     "name": "stdout",
     "output_type": "stream",
     "text": [
      "Mask generated for CAIB-T00000422OC02R01R2015HE\n"
     ]
    },
    {
     "name": "stderr",
     "output_type": "stream",
     "text": [
      " 69%|████████▎   | 141/203 [53:08<31:30, 30.50s/it]"
     ]
    },
    {
     "name": "stdout",
     "output_type": "stream",
     "text": [
      "Mask generated for CAIB-T00000422OC02R01R2116HE\n"
     ]
    },
    {
     "name": "stderr",
     "output_type": "stream",
     "text": [
      " 70%|████████▍   | 142/203 [53:24<26:22, 25.95s/it]"
     ]
    },
    {
     "name": "stdout",
     "output_type": "stream",
     "text": [
      "Mask generated for CAIB-T00000422OC02R01R2216HE\n"
     ]
    },
    {
     "name": "stderr",
     "output_type": "stream",
     "text": [
      " 70%|████████▍   | 143/203 [54:08<31:34, 31.58s/it]"
     ]
    },
    {
     "name": "stdout",
     "output_type": "stream",
     "text": [
      "Mask generated for CAIB-T00000422OC02R01R2317HE\n"
     ]
    },
    {
     "name": "stderr",
     "output_type": "stream",
     "text": [
      " 71%|████████▌   | 144/203 [54:32<28:45, 29.25s/it]"
     ]
    },
    {
     "name": "stdout",
     "output_type": "stream",
     "text": [
      "Mask generated for CAIB-T00000422OC02R01R2417HE\n"
     ]
    },
    {
     "name": "stderr",
     "output_type": "stream",
     "text": [
      " 71%|████████▌   | 145/203 [54:59<27:35, 28.55s/it]"
     ]
    },
    {
     "name": "stdout",
     "output_type": "stream",
     "text": [
      "Mask generated for CAIB-T00000423OC01R01R0207HE\n"
     ]
    },
    {
     "name": "stderr",
     "output_type": "stream",
     "text": [
      " 72%|████████▋   | 146/203 [55:30<27:40, 29.14s/it]"
     ]
    },
    {
     "name": "stdout",
     "output_type": "stream",
     "text": [
      "Mask generated for CAIB-T00000425OC01R01R0307HE\n"
     ]
    },
    {
     "name": "stderr",
     "output_type": "stream",
     "text": [
      " 72%|████████▋   | 147/203 [55:33<20:01, 21.46s/it]"
     ]
    },
    {
     "name": "stdout",
     "output_type": "stream",
     "text": [
      "Mask generated for CAIB-T00000425OC01R01R0408HE\n"
     ]
    },
    {
     "name": "stderr",
     "output_type": "stream",
     "text": [
      " 73%|████████▋   | 148/203 [55:55<19:38, 21.43s/it]"
     ]
    },
    {
     "name": "stdout",
     "output_type": "stream",
     "text": [
      "Mask generated for CAIB-T00000425OC01R01R0608HE\n"
     ]
    },
    {
     "name": "stderr",
     "output_type": "stream",
     "text": [
      " 73%|████████▊   | 149/203 [56:32<23:40, 26.31s/it]"
     ]
    },
    {
     "name": "stdout",
     "output_type": "stream",
     "text": [
      "Mask generated for CAIB-T00000429OC01R01R0608HE\n"
     ]
    },
    {
     "name": "stderr",
     "output_type": "stream",
     "text": [
      " 74%|████████▊   | 150/203 [56:57<22:52, 25.89s/it]"
     ]
    },
    {
     "name": "stdout",
     "output_type": "stream",
     "text": [
      "Mask generated for CAIB-T00000431OC01R01R0505HE\n"
     ]
    },
    {
     "name": "stderr",
     "output_type": "stream",
     "text": [
      " 74%|████████▉   | 151/203 [57:19<21:26, 24.73s/it]"
     ]
    },
    {
     "name": "stdout",
     "output_type": "stream",
     "text": [
      "Mask generated for CAIB-T00000433OC01R01R0606HE\n"
     ]
    },
    {
     "name": "stderr",
     "output_type": "stream",
     "text": [
      " 75%|████████▉   | 152/203 [57:51<22:56, 26.99s/it]"
     ]
    },
    {
     "name": "stdout",
     "output_type": "stream",
     "text": [
      "Mask generated for CAIB-T00000433OC01R01R0706HE\n"
     ]
    },
    {
     "name": "stderr",
     "output_type": "stream",
     "text": [
      " 75%|█████████   | 153/203 [58:18<22:17, 26.74s/it]"
     ]
    },
    {
     "name": "stdout",
     "output_type": "stream",
     "text": [
      "Mask generated for CAIB-T00000434OC01R01R1206HE\n"
     ]
    },
    {
     "name": "stderr",
     "output_type": "stream",
     "text": [
      " 76%|█████████   | 154/203 [58:40<20:50, 25.51s/it]"
     ]
    },
    {
     "name": "stdout",
     "output_type": "stream",
     "text": [
      "Mask generated for CAIB-T00000434OC01R01R1307HE_2\n"
     ]
    },
    {
     "name": "stderr",
     "output_type": "stream",
     "text": [
      " 76%|█████████▏  | 155/203 [58:59<18:44, 23.42s/it]"
     ]
    },
    {
     "name": "stdout",
     "output_type": "stream",
     "text": [
      "Mask generated for CAIB-T00000436OC01R01R1206HE\n"
     ]
    },
    {
     "name": "stderr",
     "output_type": "stream",
     "text": [
      " 77%|█████████▏  | 156/203 [59:26<19:09, 24.46s/it]"
     ]
    },
    {
     "name": "stdout",
     "output_type": "stream",
     "text": [
      "Mask generated for CAIB-T00000436OC01R01R1307HE\n"
     ]
    },
    {
     "name": "stderr",
     "output_type": "stream",
     "text": [
      " 77%|█████████▎  | 157/203 [59:44<17:23, 22.69s/it]"
     ]
    },
    {
     "name": "stdout",
     "output_type": "stream",
     "text": [
      "Mask generated for CAIB-T00000436OC01R01R1407HE\n"
     ]
    },
    {
     "name": "stderr",
     "output_type": "stream",
     "text": [
      " 78%|███████▊  | 158/203 [1:00:24<20:50, 27.79s/it]"
     ]
    },
    {
     "name": "stdout",
     "output_type": "stream",
     "text": [
      "Mask generated for CAIB-T00000436OC01R01R1507HE\n"
     ]
    },
    {
     "name": "stderr",
     "output_type": "stream",
     "text": [
      " 78%|███████▊  | 159/203 [1:00:48<19:38, 26.79s/it]"
     ]
    },
    {
     "name": "stdout",
     "output_type": "stream",
     "text": [
      "Mask generated for CAIB-T00000440OC01R01R2105HE\n"
     ]
    },
    {
     "name": "stderr",
     "output_type": "stream",
     "text": [
      " 79%|███████▉  | 160/203 [1:01:04<16:49, 23.48s/it]"
     ]
    },
    {
     "name": "stdout",
     "output_type": "stream",
     "text": [
      "Mask generated for CAIB-T00000440OC01R01R2206HE\n"
     ]
    },
    {
     "name": "stderr",
     "output_type": "stream",
     "text": [
      " 79%|███████▉  | 161/203 [1:01:21<14:57, 21.37s/it]"
     ]
    },
    {
     "name": "stdout",
     "output_type": "stream",
     "text": [
      "Mask generated for CAIB-T00000440OC01R01R2306HE\n"
     ]
    },
    {
     "name": "stderr",
     "output_type": "stream",
     "text": [
      " 80%|███████▉  | 162/203 [1:01:37<13:38, 19.96s/it]"
     ]
    },
    {
     "name": "stdout",
     "output_type": "stream",
     "text": [
      "Mask generated for CAIB-T00000440OC01R01R2406HE\n"
     ]
    },
    {
     "name": "stderr",
     "output_type": "stream",
     "text": [
      " 80%|████████  | 163/203 [1:01:54<12:36, 18.91s/it]"
     ]
    },
    {
     "name": "stdout",
     "output_type": "stream",
     "text": [
      "Mask generated for CAIB-T00000448OC01R01R1305HE\n"
     ]
    },
    {
     "name": "stderr",
     "output_type": "stream",
     "text": [
      " 81%|████████  | 164/203 [1:02:21<13:54, 21.40s/it]"
     ]
    },
    {
     "name": "stdout",
     "output_type": "stream",
     "text": [
      "Mask generated for CAIB-T00000448OC01R01R1406HE\n"
     ]
    },
    {
     "name": "stderr",
     "output_type": "stream",
     "text": [
      " 81%|████████▏ | 165/203 [1:02:52<15:19, 24.21s/it]"
     ]
    },
    {
     "name": "stdout",
     "output_type": "stream",
     "text": [
      "Mask generated for CAIB-T00000448OC01R01R1506HE\n"
     ]
    },
    {
     "name": "stderr",
     "output_type": "stream",
     "text": [
      " 82%|████████▏ | 166/203 [1:03:39<19:15, 31.23s/it]"
     ]
    },
    {
     "name": "stdout",
     "output_type": "stream",
     "text": [
      "Mask generated for CAIB-T00000448OC01R01R1606HE\n"
     ]
    },
    {
     "name": "stderr",
     "output_type": "stream",
     "text": [
      " 82%|████████▏ | 167/203 [1:04:23<20:58, 34.95s/it]"
     ]
    },
    {
     "name": "stdout",
     "output_type": "stream",
     "text": [
      "Mask generated for CAIB-T00000451OC01R01R0406HE\n"
     ]
    },
    {
     "name": "stderr",
     "output_type": "stream",
     "text": [
      " 83%|████████▎ | 168/203 [1:04:37<16:44, 28.69s/it]"
     ]
    },
    {
     "name": "stdout",
     "output_type": "stream",
     "text": [
      "Mask generated for CAIB-T00000454OC01R01R1307HE\n"
     ]
    },
    {
     "name": "stderr",
     "output_type": "stream",
     "text": [
      " 83%|████████▎ | 169/203 [1:05:02<15:38, 27.62s/it]"
     ]
    },
    {
     "name": "stdout",
     "output_type": "stream",
     "text": [
      "Mask generated for CAIB-T00000454OC01R01R1408HE\n"
     ]
    },
    {
     "name": "stderr",
     "output_type": "stream",
     "text": [
      " 84%|████████▎ | 170/203 [1:05:25<14:20, 26.06s/it]"
     ]
    },
    {
     "name": "stdout",
     "output_type": "stream",
     "text": [
      "Mask generated for CAIB-T00000454OC01R01R1408HE_2\n"
     ]
    },
    {
     "name": "stderr",
     "output_type": "stream",
     "text": [
      " 84%|████████▍ | 171/203 [1:05:48<13:31, 25.37s/it]"
     ]
    },
    {
     "name": "stdout",
     "output_type": "stream",
     "text": [
      "Mask generated for CAIB-T00000454OC01R01R1508HE\n"
     ]
    },
    {
     "name": "stderr",
     "output_type": "stream",
     "text": [
      " 85%|████████▍ | 172/203 [1:06:06<11:55, 23.07s/it]"
     ]
    },
    {
     "name": "stdout",
     "output_type": "stream",
     "text": [
      "Mask generated for CAIB-T00000454OC01R01R1508HE_2\n"
     ]
    },
    {
     "name": "stderr",
     "output_type": "stream",
     "text": [
      " 85%|████████▌ | 173/203 [1:06:30<11:39, 23.33s/it]"
     ]
    },
    {
     "name": "stdout",
     "output_type": "stream",
     "text": [
      "Mask generated for CAIB-T00000456OC01R01R0507HE\n"
     ]
    },
    {
     "name": "stderr",
     "output_type": "stream",
     "text": [
      " 86%|████████▌ | 174/203 [1:07:15<14:24, 29.81s/it]"
     ]
    },
    {
     "name": "stdout",
     "output_type": "stream",
     "text": [
      "Mask generated for CAIB-T00000464OC01R01R0401HE\n"
     ]
    },
    {
     "name": "stderr",
     "output_type": "stream",
     "text": [
      " 86%|████████▌ | 175/203 [1:08:01<16:15, 34.84s/it]"
     ]
    },
    {
     "name": "stdout",
     "output_type": "stream",
     "text": [
      "Mask generated for CAIB-T00000464OC01R01R0606HE\n"
     ]
    },
    {
     "name": "stderr",
     "output_type": "stream",
     "text": [
      " 87%|████████▋ | 176/203 [1:08:33<15:15, 33.90s/it]"
     ]
    },
    {
     "name": "stdout",
     "output_type": "stream",
     "text": [
      "Mask generated for CAIB-T00000465OC01R01R0301HE\n"
     ]
    },
    {
     "name": "stderr",
     "output_type": "stream",
     "text": [
      " 87%|████████▋ | 177/203 [1:08:57<13:24, 30.96s/it]"
     ]
    },
    {
     "name": "stdout",
     "output_type": "stream",
     "text": [
      "Mask generated for CAIB-T00000471OC01R02R0506HE\n"
     ]
    },
    {
     "name": "stderr",
     "output_type": "stream",
     "text": [
      " 88%|████████▊ | 178/203 [1:09:18<11:41, 28.05s/it]"
     ]
    },
    {
     "name": "stdout",
     "output_type": "stream",
     "text": [
      "Mask generated for CAIB-T00000471OC01R02R0607HE\n"
     ]
    },
    {
     "name": "stderr",
     "output_type": "stream",
     "text": [
      " 88%|████████▊ | 179/203 [1:09:44<10:57, 27.40s/it]"
     ]
    },
    {
     "name": "stdout",
     "output_type": "stream",
     "text": [
      "Mask generated for CAIB-T00000471OC01R02R0709HE\n"
     ]
    },
    {
     "name": "stderr",
     "output_type": "stream",
     "text": [
      " 89%|████████▊ | 180/203 [1:10:07<09:58, 26.04s/it]"
     ]
    },
    {
     "name": "stdout",
     "output_type": "stream",
     "text": [
      "Mask generated for CAIB-T00000471OC01R02R0809HE\n"
     ]
    },
    {
     "name": "stderr",
     "output_type": "stream",
     "text": [
      " 89%|████████▉ | 181/203 [1:10:33<09:29, 25.86s/it]"
     ]
    },
    {
     "name": "stdout",
     "output_type": "stream",
     "text": [
      "Mask generated for CAIB-T00000472OC01R01R0406HE\n"
     ]
    },
    {
     "name": "stderr",
     "output_type": "stream",
     "text": [
      " 90%|████████▉ | 182/203 [1:10:52<08:19, 23.80s/it]"
     ]
    },
    {
     "name": "stdout",
     "output_type": "stream",
     "text": [
      "Mask generated for CAIB-T00000472OC01R01R0507HE\n"
     ]
    },
    {
     "name": "stderr",
     "output_type": "stream",
     "text": [
      " 90%|█████████ | 183/203 [1:11:18<08:09, 24.46s/it]"
     ]
    },
    {
     "name": "stdout",
     "output_type": "stream",
     "text": [
      "Mask generated for CAIB-T00000472OC01R01R0608HE\n"
     ]
    },
    {
     "name": "stderr",
     "output_type": "stream",
     "text": [
      " 91%|█████████ | 184/203 [1:11:34<06:59, 22.08s/it]"
     ]
    },
    {
     "name": "stdout",
     "output_type": "stream",
     "text": [
      "Mask generated for CAIB-T00000476OC01R01R0406HE\n"
     ]
    },
    {
     "name": "stderr",
     "output_type": "stream",
     "text": [
      " 91%|█████████ | 185/203 [1:12:00<06:58, 23.28s/it]"
     ]
    },
    {
     "name": "stdout",
     "output_type": "stream",
     "text": [
      "Mask generated for CAIB-T00000476OC01R01R0507HE\n"
     ]
    },
    {
     "name": "stderr",
     "output_type": "stream",
     "text": [
      " 92%|█████████▏| 186/203 [1:12:09<05:23, 19.01s/it]"
     ]
    },
    {
     "name": "stdout",
     "output_type": "stream",
     "text": [
      "Mask generated for CAIB-T00000477OC01R02R1207HE\n"
     ]
    },
    {
     "name": "stderr",
     "output_type": "stream",
     "text": [
      " 92%|█████████▏| 187/203 [1:12:27<04:55, 18.49s/it]"
     ]
    },
    {
     "name": "stdout",
     "output_type": "stream",
     "text": [
      "Mask generated for CAIB-T00000477OC01R02R2409HE\n"
     ]
    },
    {
     "name": "stderr",
     "output_type": "stream",
     "text": [
      " 93%|█████████▎| 188/203 [1:13:05<06:06, 24.44s/it]"
     ]
    },
    {
     "name": "stdout",
     "output_type": "stream",
     "text": [
      "Mask generated for CAIB-T00000477OC01R02R2511HE\n"
     ]
    },
    {
     "name": "stderr",
     "output_type": "stream",
     "text": [
      " 93%|█████████▎| 189/203 [1:13:27<05:32, 23.77s/it]"
     ]
    },
    {
     "name": "stdout",
     "output_type": "stream",
     "text": [
      "Mask generated for CAIB-T00000485OC01R01R0611HE\n"
     ]
    },
    {
     "name": "stderr",
     "output_type": "stream",
     "text": [
      " 94%|█████████▎| 190/203 [1:13:51<05:07, 23.66s/it]"
     ]
    },
    {
     "name": "stdout",
     "output_type": "stream",
     "text": [
      "Mask generated for CAIB-T00000486OC01R02R2108HE\n"
     ]
    },
    {
     "name": "stderr",
     "output_type": "stream",
     "text": [
      " 94%|█████████▍| 191/203 [1:14:05<04:09, 20.83s/it]"
     ]
    },
    {
     "name": "stdout",
     "output_type": "stream",
     "text": [
      "Mask generated for CAIB-T00000489OC01R01R1405HE\n"
     ]
    },
    {
     "name": "stderr",
     "output_type": "stream",
     "text": [
      " 95%|█████████▍| 192/203 [1:14:36<04:22, 23.91s/it]"
     ]
    },
    {
     "name": "stdout",
     "output_type": "stream",
     "text": [
      "Mask generated for CAIB-T00000489OC01R01R1505HE\n"
     ]
    },
    {
     "name": "stderr",
     "output_type": "stream",
     "text": [
      " 95%|█████████▌| 193/203 [1:14:53<03:38, 21.89s/it]"
     ]
    },
    {
     "name": "stdout",
     "output_type": "stream",
     "text": [
      "Mask generated for CAIB-T00000489OC01R01R1606HE\n"
     ]
    },
    {
     "name": "stderr",
     "output_type": "stream",
     "text": [
      " 96%|█████████▌| 194/203 [1:15:14<03:15, 21.74s/it]"
     ]
    },
    {
     "name": "stdout",
     "output_type": "stream",
     "text": [
      "Mask generated for CAIB-T00000489OC01R01R1606HE_2\n"
     ]
    },
    {
     "name": "stderr",
     "output_type": "stream",
     "text": [
      " 96%|█████████▌| 195/203 [1:15:40<03:02, 22.85s/it]"
     ]
    },
    {
     "name": "stdout",
     "output_type": "stream",
     "text": [
      "Mask generated for CAIB-T00000493OC01R01R0101HE\n"
     ]
    },
    {
     "name": "stderr",
     "output_type": "stream",
     "text": [
      " 97%|█████████▋| 196/203 [1:16:23<03:23, 29.04s/it]"
     ]
    },
    {
     "name": "stdout",
     "output_type": "stream",
     "text": [
      "Mask generated for CAIB-T00000493OC01R01R2307HE\n"
     ]
    },
    {
     "name": "stderr",
     "output_type": "stream",
     "text": [
      " 97%|█████████▋| 197/203 [1:16:50<02:49, 28.30s/it]"
     ]
    },
    {
     "name": "stdout",
     "output_type": "stream",
     "text": [
      "Mask generated for CAIB-T00000499OC01R01R2209HE\n"
     ]
    },
    {
     "name": "stderr",
     "output_type": "stream",
     "text": [
      " 98%|█████████▊| 198/203 [1:17:16<02:18, 27.79s/it]"
     ]
    },
    {
     "name": "stdout",
     "output_type": "stream",
     "text": [
      "Mask generated for CAIB-T00000499OC01R01R2310HE\n"
     ]
    },
    {
     "name": "stderr",
     "output_type": "stream",
     "text": [
      " 98%|█████████▊| 199/203 [1:17:38<01:44, 26.05s/it]"
     ]
    },
    {
     "name": "stdout",
     "output_type": "stream",
     "text": [
      "Mask generated for CAIB-T00000504OC01R02R0401HE\n"
     ]
    },
    {
     "name": "stderr",
     "output_type": "stream",
     "text": [
      " 99%|█████████▊| 200/203 [1:17:55<01:09, 23.19s/it]"
     ]
    },
    {
     "name": "stdout",
     "output_type": "stream",
     "text": [
      "Mask generated for CAIB-T00000505OC01R01R0101HE\n"
     ]
    },
    {
     "name": "stderr",
     "output_type": "stream",
     "text": [
      " 99%|█████████▉| 201/203 [1:18:26<00:51, 25.68s/it]"
     ]
    },
    {
     "name": "stdout",
     "output_type": "stream",
     "text": [
      "Mask generated for CAIB-T00001466OP02R01R0103HE\n"
     ]
    },
    {
     "name": "stderr",
     "output_type": "stream",
     "text": [
      "100%|█████████▉| 202/203 [1:18:44<00:23, 23.21s/it]"
     ]
    },
    {
     "name": "stdout",
     "output_type": "stream",
     "text": [
      "Mask generated for CAIB-T00001466OP02R01R0205HE\n"
     ]
    },
    {
     "name": "stderr",
     "output_type": "stream",
     "text": [
      "100%|██████████| 203/203 [1:19:15<00:00, 23.43s/it]"
     ]
    },
    {
     "name": "stdout",
     "output_type": "stream",
     "text": [
      "Mask generated for CAIB-T00001466OP02R01R0309HE\n"
     ]
    },
    {
     "name": "stderr",
     "output_type": "stream",
     "text": [
      "\n"
     ]
    }
   ],
   "source": [
    "sessionID= core.connect('http://10.100.76.62/core/', 'tmccomputpath', 'Z5XPLQ2I')  # @office\n",
    "\n",
    "print(sessionID)\n",
    "\n",
    "# Loop through each slide\n",
    "for i in tqdm(df[\"File_name\"]):\n",
    "    mgfx = 2\n",
    "    pma_slide = i\n",
    "    try:\n",
    "        result1 = binary_mask(pma_slide,sessionID,mgfx)\n",
    "        result2 = binary_mask_t(pma_slide,sessionID,mgfx)\n",
    "        #result1 = np.resize(result1, result2.shape)\n",
    "        result3 = result1*result2\n",
    "        binary_mask_img = Image.fromarray((result3 * 255).astype(np.uint8))\n",
    "        output_dir = 'new_masks/'  # Replace with your desired output directory path\n",
    "        os.makedirs(output_dir, exist_ok=True)  # Create the output directory if it doesn't exist\n",
    "        file_name = core.get_slide_file_name(pma_slide)\n",
    "        slide_name = os.path.splitext(file_name)[0]\n",
    "        output_path = f'{output_dir}/{slide_name}.png'  # Replace with your desired filename\n",
    "        binary_mask_img.save(output_path)\n",
    "        print (f'Mask generated for {slide_name}')\n",
    "        \n",
    "    except Exception as e:\n",
    "        print(f\"Failed to generate mask for {pma_slide}. Error: {str(e)}\")\n",
    "        break"
   ]
  },
  {
   "cell_type": "code",
   "execution_count": null,
   "id": "33636e80-5e04-4028-9eee-4ae54a57be29",
   "metadata": {},
   "outputs": [],
   "source": []
  }
 ],
 "metadata": {
  "kernelspec": {
   "display_name": "Python 3 (ipykernel)",
   "language": "python",
   "name": "python3"
  },
  "language_info": {
   "codemirror_mode": {
    "name": "ipython",
    "version": 3
   },
   "file_extension": ".py",
   "mimetype": "text/x-python",
   "name": "python",
   "nbconvert_exporter": "python",
   "pygments_lexer": "ipython3",
   "version": "3.10.12"
  }
 },
 "nbformat": 4,
 "nbformat_minor": 5
}
